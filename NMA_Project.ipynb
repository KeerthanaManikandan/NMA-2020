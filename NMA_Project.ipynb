{
  "nbformat": 4,
  "nbformat_minor": 0,
  "metadata": {
    "colab": {
      "name": "NMA_Project.ipynb",
      "provenance": [],
      "authorship_tag": "ABX9TyMtgtQL9svpw40Cqn2RcgPE",
      "include_colab_link": true
    },
    "kernelspec": {
      "name": "python3",
      "display_name": "Python 3"
    }
  },
  "cells": [
    {
      "cell_type": "markdown",
      "metadata": {
        "id": "view-in-github",
        "colab_type": "text"
      },
      "source": [
        "<a href=\"https://colab.research.google.com/github/KeerthanaManikandan/NMA-2020/blob/master/NMA_Project.ipynb\" target=\"_parent\"><img src=\"https://colab.research.google.com/assets/colab-badge.svg\" alt=\"Open In Colab\"/></a>"
      ]
    },
    {
      "cell_type": "markdown",
      "metadata": {
        "id": "Jlhe3l-cssGJ",
        "colab_type": "text"
      },
      "source": [
        "##Using Steinmetz Data for the project to study attention and reward"
      ]
    },
    {
      "cell_type": "code",
      "metadata": {
        "id": "iWgW4Slps14-",
        "colab_type": "code",
        "colab": {}
      },
      "source": [
        ""
      ],
      "execution_count": null,
      "outputs": []
    }
  ]
}